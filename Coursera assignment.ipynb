{
 "cells": [
  {
   "cell_type": "markdown",
   "id": "bba68d98-2a25-4073-ac4b-e1e3c121af65",
   "metadata": {},
   "source": [
    "<h1>My Jupyter Notebook on IBM Watson Studio<h1>"
   ]
  },
  {
   "cell_type": "markdown",
   "id": "d2a52696-93ce-4706-b76a-2926ccac8b1d",
   "metadata": {},
   "source": [
    "**Roman Naidenko**\\\n",
    "My desired occupation is Senior data scientist"
   ]
  },
  {
   "cell_type": "markdown",
   "id": "531db0be-0363-441a-a0b6-82efb5bebba5",
   "metadata": {},
   "source": [
    "*I am interested in data science because I'm fond of analyzing and building predictive models. Also I'm changing my field. In my opinion our future depends on how can we work with data.*"
   ]
  },
  {
   "cell_type": "markdown",
   "id": "4386e9dd-c490-4b03-b574-ebd8a859a3e4",
   "metadata": {},
   "source": [
    "<h3>Below you can find code which greets you. Please input your name and be welcomed!<h3>"
   ]
  },
  {
   "cell_type": "code",
   "execution_count": 1,
   "id": "e9acd1e6-5e02-4629-b521-664eaed3e702",
   "metadata": {},
   "outputs": [
    {
     "name": "stdin",
     "output_type": "stream",
     "text": [
      " Guest\n"
     ]
    },
    {
     "name": "stdout",
     "output_type": "stream",
     "text": [
      "Greetings, \u001b[1mGuest\u001b[0m.\n",
      "Welcome to my Jupyter notebook!\n"
     ]
    }
   ],
   "source": [
    "name = input()\n",
    "print(f'Greetings, \\033[1m{name}\\033[0m.\\nWelcome to my Jupyter notebook!')"
   ]
  },
  {
   "cell_type": "markdown",
   "id": "741aa4ac-15f5-4ace-8c03-568310428ab2",
   "metadata": {
    "tags": []
   },
   "source": [
    "---\n",
    "\n",
    "* Bullet A\n",
    "* Bullet B\n",
    "* Bullet C\n",
    "\n",
    "1. Number 1\n",
    "2. Number 2\n",
    "3. Number 3\n",
    "\n",
    "|Header|Header|Header|\n",
    "|:---|:----:|---:|\n",
    "|Text|Text|Text|\n",
    "|Text|Text|Text|\n",
    "\n",
    "<a href=\"https://dataplatform.cloud.ibm.com/gallery\">IBM Cloud Gallery</a>\n",
    "\n",
    "<img src=\"https://www.ibm.com/design/language/a41bb6fc86bf12f915d28f4c34f33d74/8bar.svg\" alt=\"IBM logo\" style=\"height: 150px; width:400px;\"/>\n",
    "\n",
    "```\n",
    "name = input()\n",
    "print(f'Greetings, \\033[1m{name}\\033[0m.\\nWelcome to my Jupyter notebook!')\n",
    "```\n",
    "\n",
    ">Block-quoted text.\n",
    "\n",
    "~~This text is Strikethroughed.~~"
   ]
  }
 ],
 "metadata": {
  "kernelspec": {
   "display_name": "Python",
   "language": "python",
   "name": "conda-env-python-py"
  },
  "language_info": {
   "codemirror_mode": {
    "name": "ipython",
    "version": 3
   },
   "file_extension": ".py",
   "mimetype": "text/x-python",
   "name": "python",
   "nbconvert_exporter": "python",
   "pygments_lexer": "ipython3",
   "version": "3.7.12"
  }
 },
 "nbformat": 4,
 "nbformat_minor": 5
}
